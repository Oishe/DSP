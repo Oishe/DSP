{
 "cells": [
  {
   "cell_type": "markdown",
   "metadata": {},
   "source": [
    "# Review\n",
    "\n",
    "\\begin{equation*}\n",
    "e^{j\\theta } =cos( \\theta ) \\ +\\ jsin( \\theta )\n",
    "\\end{equation*}\n",
    "\n",
    "\\begin{equation*}\n",
    "\\end{equation*}\n",
    "\\begin{gather*}\n",
    "x_{p}( t) =a_{0} \\ +\\ 2\\sum ^{\\infty }_{n\\ =\\ 1}\\Bigl[ a_{n} \\ cos\\left(\\tfrac{2\\pi nt}{T_{0}}\\right) +b_{n} \\ sin\\left(\\tfrac{2\\pi nt}{T_{0}}\\right)\\Bigr]\\\\\n",
    "f_{0} \\ =\\ \\tfrac{1}{T_{0}} \\ ;\\ fundamental\\ frequency\\\\\n",
    "\\tfrac{n}{T_{0}} \\ \\ ;\\ n^{th} \\ harmonic\n",
    "\\end{gather*}"
   ]
  },
  {
   "cell_type": "code",
   "execution_count": null,
   "metadata": {},
   "outputs": [],
   "source": []
  }
 ],
 "metadata": {
  "kernelspec": {
   "display_name": "Python 3",
   "language": "python",
   "name": "python3"
  },
  "language_info": {
   "codemirror_mode": {
    "name": "ipython",
    "version": 3
   },
   "file_extension": ".py",
   "mimetype": "text/x-python",
   "name": "python",
   "nbconvert_exporter": "python",
   "pygments_lexer": "ipython3",
   "version": "3.6.4"
  }
 },
 "nbformat": 4,
 "nbformat_minor": 2
}
